{
 "cells": [
  {
   "cell_type": "code",
   "execution_count": 1,
   "metadata": {
    "collapsed": false
   },
   "outputs": [],
   "source": [
    "import tweepy\n",
    "import json\n",
    "import time\n",
    "from vaderSentiment.vaderSentiment import SentimentIntensityAnalyzer\n",
    "\n",
    "\n",
    "# Authorization Codes\n",
    "consumer_key = \"ZCVjbgfaSGlrJVh7T2cqIFfMR\"\n",
    "consumer_secret = \"yah2rFbZE1qX9n1MDaqObT1PfCOSYlvxIyXYuCO4ZrSUfSvjEC\"\n",
    "access_key = \"781555439183859712-tS4fKwo03ujDtNL0UibVIXauXRFdFvs\"\n",
    "access_secret = \"3YrATCHVvP2atvFs4M6VJ0dFvsdE3BBKoZ2OcvKdqPzJp\"\n",
    "\n",
    "# OAuth\n",
    "auth = tweepy.OAuthHandler(consumer_key, consumer_secret)\n",
    "auth.set_access_token(access_key, access_secret)\n",
    "\n",
    "# API Call\n",
    "api = tweepy.API(auth, parser = tweepy.parsers.JSONParser())"
   ]
  },
  {
   "cell_type": "code",
   "execution_count": 2,
   "metadata": {
    "collapsed": false,
    "scrolled": true
   },
   "outputs": [
    {
     "name": "stdout",
     "output_type": "stream",
     "text": [
      "[0] I will be announcing my decision on the Paris Accord over the next few days. MAKE AMERICA GREAT AGAIN!\n",
      "[1] Hopefully Republican Senators, good people all, can quickly get together and pass a new (repeal &amp; replace) HEALTHCARE bill. Add saved $'s.\n",
      "[2] Kathy Griffin should be ashamed of herself. My children, especially my 11 year old son, Barron, are having a hard time with this. Sick!\n",
      "[3] ...case against him &amp; now wants to clear his name by showing \"the false or misleading testimony by James Comey, John Brennan...\" Witch Hunt!\n",
      "[4] So now it is reported that the Democrats, who have excoriated Carter Page about Russia, don't want him to testify. He blows away their....\n",
      "[5] Who can figure out the true meaning of \"covfefe\" ???  Enjoy!\n",
      "[6] RT @foxandfriends: Jared Kushner didn't suggest Russian communications channel in meeting, source says https://t.co/nF6bM1FEt1\n",
      "[7] RT @Scavino45: President Trump pays respects and  delivers #MemorialDay remarks at Arlington National Cemetery. https://t.co/D5rl948J6u\n",
      "[8] The U.S. Senate should switch to 51 votes, immediately, and get Healthcare and TAX CUTS approved, fast and easy. Dems would do it, no doubt!\n",
      "[9] Russian officials must be laughing at the U.S. &amp; how a lame excuse for why the Dems lost the election has taken over the Fake News.\n"
     ]
    }
   ],
   "source": [
    "# Test API by pulling data from Donald Trumps twitter\n",
    "data = api.user_timeline(id='realDonaldTrump', count = 200)  #Example:@realDonaldTrump\n",
    "for i in range(10):\n",
    "    print([i],data[i]['text'])"
   ]
  },
  {
   "cell_type": "code",
   "execution_count": 8,
   "metadata": {
    "collapsed": false,
    "scrolled": false
   },
   "outputs": [
    {
     "data": {
      "text/plain": [
       "'We will begin offering Ethereum trading on https://t.co/1RcNoD3vzA and OKCoin.cn Full details: https://t.co/BOAuH6s09f #eth #etc'"
      ]
     },
     "execution_count": 8,
     "metadata": {},
     "output_type": "execute_result"
    }
   ],
   "source": [
    "search_query =  '\"Ethereum\" -filter:retweets'\n",
    "data = api.search(q = search_query, count = 100, lang = 'en', result_type = 'mixed')\n",
    "all_data = list(data.values())[1]\n",
    "\n",
    "all_data[1]['text']"
   ]
  },
  {
   "cell_type": "code",
   "execution_count": 10,
   "metadata": {
    "collapsed": false
   },
   "outputs": [],
   "source": [
    "while(len(all_data) <= 1000):\n",
    "    #time.sleep(5)\n",
    "    last = all_data[-1]['id']\n",
    "    data = api.search(q = search_query, count = 100, lang = 'en', result_type = 'mixed', since_id = last)\n",
    "    all_data += list(data.values())[1][1:]\n"
   ]
  },
  {
   "cell_type": "code",
   "execution_count": 16,
   "metadata": {
    "collapsed": false
   },
   "outputs": [
    {
     "data": {
      "text/plain": [
       "1034"
      ]
     },
     "execution_count": 16,
     "metadata": {},
     "output_type": "execute_result"
    }
   ],
   "source": [
    "len(all_data)"
   ]
  },
  {
   "cell_type": "code",
   "execution_count": 17,
   "metadata": {
    "collapsed": false
   },
   "outputs": [],
   "source": [
    "tweet = []\n",
    "number_favourites = []\n",
    "vs_compound = []\n",
    "vs_pos = []\n",
    "vs_neu = []\n",
    "vs_neg = []\n",
    "\n",
    "analyzer = SentimentIntensityAnalyzer()"
   ]
  },
  {
   "cell_type": "code",
   "execution_count": null,
   "metadata": {
    "collapsed": true
   },
   "outputs": [],
   "source": []
  }
 ],
 "metadata": {
  "kernelspec": {
   "display_name": "Python 3",
   "language": "python",
   "name": "python3"
  },
  "language_info": {
   "codemirror_mode": {
    "name": "ipython",
    "version": 3
   },
   "file_extension": ".py",
   "mimetype": "text/x-python",
   "name": "python",
   "nbconvert_exporter": "python",
   "pygments_lexer": "ipython3",
   "version": "3.5.1"
  }
 },
 "nbformat": 4,
 "nbformat_minor": 0
}
