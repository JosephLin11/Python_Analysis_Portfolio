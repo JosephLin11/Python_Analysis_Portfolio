{
 "cells": [
  {
   "cell_type": "code",
   "execution_count": 5,
   "metadata": {
    "collapsed": false
   },
   "outputs": [],
   "source": [
    "import tweepy\n",
    "import json\n",
    "\n",
    "# Authorization Codes\n",
    "consumer_key = \"ZCVjbgfaSGlrJVh7T2cqIFfMR\"\n",
    "consumer_secret = \"yah2rFbZE1qX9n1MDaqObT1PfCOSYlvxIyXYuCO4ZrSUfSvjEC\"\n",
    "access_key = \"781555439183859712-tS4fKwo03ujDtNL0UibVIXauXRFdFvs\"\n",
    "access_secret = \"3YrATCHVvP2atvFs4M6VJ0dFvsdE3BBKoZ2OcvKdqPzJp\"\n",
    "\n",
    "# OAuth\n",
    "auth = tweepy.OAuthHandler(consumer_key, consumer_secret)\n",
    "auth.set_access_token(access_key, access_secret)\n",
    "\n",
    "# API Call\n",
    "api = tweepy.API(auth, parser = tweepy.parsers.JSONParser())"
   ]
  },
  {
   "cell_type": "code",
   "execution_count": 19,
   "metadata": {
    "collapsed": false
   },
   "outputs": [],
   "source": [
    "data = api.user_timeline(id='realDonaldTrump', count = 200)  #Example:@realDonaldTrump"
   ]
  },
  {
   "cell_type": "code",
   "execution_count": 53,
   "metadata": {
    "collapsed": false,
    "scrolled": false
   },
   "outputs": [
    {
     "name": "stdout",
     "output_type": "stream",
     "text": [
      "[0] All civilized nations must join together to protect human life and the sacred right of our citizens to live in safety and in peace.\n",
      "[1] Israel, Saudi Arabia and the Middle East were great. Trying hard for PEACE. Doing well. Heading to Vatican &amp; Pope, then #G7 and #NATO.\n",
      "[2] Thank you for such a wonderful and unforgettable visit, Prime Minister @Netanyahu and @PresidentRuvi.\n",
      "[3] We stand in absolute solidarity with the people of the United Kingdom. https://t.co/X6fUUxxYXE\n",
      "[4] Prime Minister @Netanyahu and @PresidentRuvi- on behalf of @FLOTUS Melania and myself, thank you for the invitation… https://t.co/Z5YCpaRV6t\n",
      "[5] RT @netanyahu: Ever Stronger\n",
      "חזקים תמיד\n",
      "🇮🇱🇺🇸 https://t.co/Ecf5p4HjfZ\n",
      "[6] #RiyadhSummit #POTUSAbroad🇺🇸 https://t.co/WdDEOiV6oS\n",
      "[7] Speech transcript at Arab Islamic American Summit ➡️https://t.co/eUWxJXJxbe\n",
      "\n",
      "Replay ➡️https://t.co/VtmlSqciXx\n",
      "\n",
      "#RiyadhSummit #POTUSAbroad\n",
      "[8] RT @FLOTUS: I had a wonderful time with the students at the American International School #Riyadh today. #SaudiaArabia https://t.co/AVzVV0W…\n",
      "[9] Thank you to the BRAVE servicemen &amp; women who have served, and continue to serve the United States- our true HEROES… https://t.co/ZTV9F639xM\n"
     ]
    }
   ],
   "source": [
    "for i in range(10):\n",
    "    print([i],data[i]['text'])"
   ]
  },
  {
   "cell_type": "code",
   "execution_count": null,
   "metadata": {
    "collapsed": true
   },
   "outputs": [],
   "source": []
  }
 ],
 "metadata": {
  "kernelspec": {
   "display_name": "Python 3",
   "language": "python",
   "name": "python3"
  },
  "language_info": {
   "codemirror_mode": {
    "name": "ipython",
    "version": 3
   },
   "file_extension": ".py",
   "mimetype": "text/x-python",
   "name": "python",
   "nbconvert_exporter": "python",
   "pygments_lexer": "ipython3",
   "version": "3.5.1"
  }
 },
 "nbformat": 4,
 "nbformat_minor": 0
}
