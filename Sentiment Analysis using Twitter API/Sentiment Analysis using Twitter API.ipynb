{
 "cells": [
  {
   "cell_type": "code",
   "execution_count": 11,
   "metadata": {
    "collapsed": false
   },
   "outputs": [],
   "source": [
    "import tweepy\n",
    "import json\n",
    "import time\n",
    "from pandas import Series, DataFrame\n",
    "from vaderSentiment.vaderSentiment import SentimentIntensityAnalyzer\n",
    "\n",
    "\n",
    "# Authorization Codes\n",
    "consumer_key = \"ZCVjbgfaSGlrJVh7T2cqIFfMR\"\n",
    "consumer_secret = \"yah2rFbZE1qX9n1MDaqObT1PfCOSYlvxIyXYuCO4ZrSUfSvjEC\"\n",
    "access_key = \"781555439183859712-tS4fKwo03ujDtNL0UibVIXauXRFdFvs\"\n",
    "access_secret = \"3YrATCHVvP2atvFs4M6VJ0dFvsdE3BBKoZ2OcvKdqPzJp\"\n",
    "\n",
    "# OAuth\n",
    "auth = tweepy.OAuthHandler(consumer_key, consumer_secret)\n",
    "auth.set_access_token(access_key, access_secret)\n",
    "\n",
    "# API Call\n",
    "api = tweepy.API(auth, parser = tweepy.parsers.JSONParser())"
   ]
  },
  {
   "cell_type": "code",
   "execution_count": 2,
   "metadata": {
    "collapsed": false,
    "scrolled": true
   },
   "outputs": [
    {
     "name": "stdout",
     "output_type": "stream",
     "text": [
      "[0] It was an honor to welcome the Prime Minister of Vietnam, Nguyễn Xuân Phúc to the @WhiteHouse this afternoon. https://t.co/6YbrIvJUCY\n",
      "[1] We traveled the world to strengthen long-standing alliances, and to form new partnerships. See more at:… https://t.co/FT4kyPoAl0\n",
      "[2] I will be announcing my decision on the Paris Accord over the next few days. MAKE AMERICA GREAT AGAIN!\n",
      "[3] Hopefully Republican Senators, good people all, can quickly get together and pass a new (repeal &amp; replace) HEALTHCARE bill. Add saved $'s.\n",
      "[4] Kathy Griffin should be ashamed of herself. My children, especially my 11 year old son, Barron, are having a hard time with this. Sick!\n",
      "[5] ...case against him &amp; now wants to clear his name by showing \"the false or misleading testimony by James Comey, John Brennan...\" Witch Hunt!\n",
      "[6] So now it is reported that the Democrats, who have excoriated Carter Page about Russia, don't want him to testify. He blows away their....\n",
      "[7] Who can figure out the true meaning of \"covfefe\" ???  Enjoy!\n",
      "[8] RT @foxandfriends: Jared Kushner didn't suggest Russian communications channel in meeting, source says https://t.co/nF6bM1FEt1\n",
      "[9] RT @Scavino45: President Trump pays respects and  delivers #MemorialDay remarks at Arlington National Cemetery. https://t.co/D5rl948J6u\n"
     ]
    }
   ],
   "source": [
    "# Test API by pulling data from Donald Trumps twitter\n",
    "data = api.user_timeline(id='realDonaldTrump', count = 200)  #Example:@realDonaldTrump\n",
    "for i in range(10):\n",
    "    print([i],data[i]['text'])"
   ]
  },
  {
   "cell_type": "code",
   "execution_count": 3,
   "metadata": {
    "collapsed": false,
    "scrolled": false
   },
   "outputs": [
    {
     "data": {
      "text/plain": [
       "'Bitcoin could be eclipsed by ethereum https://t.co/SPSMLKMipq https://t.co/k11IRz2f0M'"
      ]
     },
     "execution_count": 3,
     "metadata": {},
     "output_type": "execute_result"
    }
   ],
   "source": [
    "search_query =  '\"Ethereum\" -filter:retweets'\n",
    "data = api.search(q = search_query, count = 100, lang = 'en', result_type = 'mixed')\n",
    "all_data = list(data.values())[1]\n",
    "\n",
    "all_data[1]['text']"
   ]
  },
  {
   "cell_type": "code",
   "execution_count": 4,
   "metadata": {
    "collapsed": false
   },
   "outputs": [],
   "source": [
    "while(len(all_data) <= 1000):\n",
    "    #time.sleep(5)\n",
    "    last = all_data[-1]['id']\n",
    "    data = api.search(q = search_query, count = 100, lang = 'en', result_type = 'mixed', since_id = last)\n",
    "    all_data += list(data.values())[1][1:]\n"
   ]
  },
  {
   "cell_type": "code",
   "execution_count": 5,
   "metadata": {
    "collapsed": false
   },
   "outputs": [
    {
     "data": {
      "text/plain": [
       "1013"
      ]
     },
     "execution_count": 5,
     "metadata": {},
     "output_type": "execute_result"
    }
   ],
   "source": [
    "len(all_data)"
   ]
  },
  {
   "cell_type": "code",
   "execution_count": 8,
   "metadata": {
    "collapsed": false
   },
   "outputs": [],
   "source": [
    "tweet = []\n",
    "number_favourites = []\n",
    "vs_compound = []\n",
    "vs_pos = []\n",
    "vs_neu = []\n",
    "vs_neg = []\n",
    "\n",
    "analyzer = SentimentIntensityAnalyzer()\n",
    "\n",
    "for i in range(0, len(all_data)):\n",
    "    tweet.append(all_data[i]['text'])\n",
    "    number_favourites.append(all_data[i]['favorite_count'])\n",
    "    vs_compound.append(analyzer.polarity_scores(all_data[i]['text'])['compound'])\n",
    "    vs_pos.append(analyzer.polarity_scores(all_data[i]['text'])['pos'])\n",
    "    vs_neu.append(analyzer.polarity_scores(all_data[i]['text'])['neu'])\n",
    "    vs_neg.append(analyzer.polarity_scores(all_data[i]['text'])['neg'])"
   ]
  },
  {
   "cell_type": "code",
   "execution_count": 12,
   "metadata": {
    "collapsed": false
   },
   "outputs": [
    {
     "data": {
      "text/html": [
       "<div>\n",
       "<table border=\"1\" class=\"dataframe\">\n",
       "  <thead>\n",
       "    <tr style=\"text-align: right;\">\n",
       "      <th></th>\n",
       "      <th>Tweet</th>\n",
       "      <th>Favourites</th>\n",
       "      <th>Compound</th>\n",
       "      <th>Positive</th>\n",
       "      <th>Neutral</th>\n",
       "      <th>Negative</th>\n",
       "    </tr>\n",
       "  </thead>\n",
       "  <tbody>\n",
       "    <tr>\n",
       "      <th>0</th>\n",
       "      <td>https://t.co/oiFGyh1iju This is a $2220 tx fee...</td>\n",
       "      <td>289</td>\n",
       "      <td>0.4404</td>\n",
       "      <td>0.185</td>\n",
       "      <td>0.738</td>\n",
       "      <td>0.077</td>\n",
       "    </tr>\n",
       "    <tr>\n",
       "      <th>1</th>\n",
       "      <td>Bitcoin could be eclipsed by ethereum https://...</td>\n",
       "      <td>59</td>\n",
       "      <td>0.0000</td>\n",
       "      <td>0.000</td>\n",
       "      <td>1.000</td>\n",
       "      <td>0.000</td>\n",
       "    </tr>\n",
       "    <tr>\n",
       "      <th>2</th>\n",
       "      <td>Ethereum (Ether) Could Be Worth More Than Bitc...</td>\n",
       "      <td>118</td>\n",
       "      <td>0.2263</td>\n",
       "      <td>0.160</td>\n",
       "      <td>0.840</td>\n",
       "      <td>0.000</td>\n",
       "    </tr>\n",
       "    <tr>\n",
       "      <th>3</th>\n",
       "      <td>My ethereum and litecoin purchase finally clea...</td>\n",
       "      <td>0</td>\n",
       "      <td>0.2462</td>\n",
       "      <td>0.221</td>\n",
       "      <td>0.779</td>\n",
       "      <td>0.000</td>\n",
       "    </tr>\n",
       "    <tr>\n",
       "      <th>4</th>\n",
       "      <td>zerohedge: Ethereum Forecast To Surpass Bitcoi...</td>\n",
       "      <td>1</td>\n",
       "      <td>0.0000</td>\n",
       "      <td>0.000</td>\n",
       "      <td>1.000</td>\n",
       "      <td>0.000</td>\n",
       "    </tr>\n",
       "  </tbody>\n",
       "</table>\n",
       "</div>"
      ],
      "text/plain": [
       "                                               Tweet  Favourites  Compound  \\\n",
       "0  https://t.co/oiFGyh1iju This is a $2220 tx fee...         289    0.4404   \n",
       "1  Bitcoin could be eclipsed by ethereum https://...          59    0.0000   \n",
       "2  Ethereum (Ether) Could Be Worth More Than Bitc...         118    0.2263   \n",
       "3  My ethereum and litecoin purchase finally clea...           0    0.2462   \n",
       "4  zerohedge: Ethereum Forecast To Surpass Bitcoi...           1    0.0000   \n",
       "\n",
       "   Positive  Neutral  Negative  \n",
       "0     0.185    0.738     0.077  \n",
       "1     0.000    1.000     0.000  \n",
       "2     0.160    0.840     0.000  \n",
       "3     0.221    0.779     0.000  \n",
       "4     0.000    1.000     0.000  "
      ]
     },
     "execution_count": 12,
     "metadata": {},
     "output_type": "execute_result"
    }
   ],
   "source": [
    "twitter_df = DataFrame({'Tweet': tweet,\n",
    "                        'Favourites': number_favourites,\n",
    "                        'Compound': vs_compound,\n",
    "                        'Positive': vs_pos,\n",
    "                        'Neutral': vs_neu,\n",
    "                        'Negative': vs_neg})\n",
    "\n",
    "twitter_df = twitter_df[['Tweet', 'Favourites', 'Compound',\n",
    "                         'Positive', 'Neutral', 'Negative']]\n",
    "\n",
    "# Have a look at the top 5 results.\n",
    "twitter_df.head()"
   ]
  },
  {
   "cell_type": "code",
   "execution_count": null,
   "metadata": {
    "collapsed": true
   },
   "outputs": [],
   "source": []
  }
 ],
 "metadata": {
  "kernelspec": {
   "display_name": "Python 3",
   "language": "python",
   "name": "python3"
  },
  "language_info": {
   "codemirror_mode": {
    "name": "ipython",
    "version": 3
   },
   "file_extension": ".py",
   "mimetype": "text/x-python",
   "name": "python",
   "nbconvert_exporter": "python",
   "pygments_lexer": "ipython3",
   "version": "3.5.1"
  }
 },
 "nbformat": 4,
 "nbformat_minor": 0
}
