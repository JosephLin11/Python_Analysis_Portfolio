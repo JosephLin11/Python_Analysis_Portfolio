{
 "cells": [
  {
   "cell_type": "code",
   "execution_count": 1,
   "metadata": {
    "collapsed": false
   },
   "outputs": [],
   "source": [
    "import tweepy\n",
    "import json\n",
    "import time\n",
    "from pandas import Series, DataFrame\n",
    "from vaderSentiment.vaderSentiment import SentimentIntensityAnalyzer\n",
    "\n",
    "\n",
    "# Authorization Codes\n",
    "consumer_key = \"ZCVjbgfaSGlrJVh7T2cqIFfMR\"\n",
    "consumer_secret = \"yah2rFbZE1qX9n1MDaqObT1PfCOSYlvxIyXYuCO4ZrSUfSvjEC\"\n",
    "access_key = \"781555439183859712-tS4fKwo03ujDtNL0UibVIXauXRFdFvs\"\n",
    "access_secret = \"3YrATCHVvP2atvFs4M6VJ0dFvsdE3BBKoZ2OcvKdqPzJp\"\n",
    "\n",
    "# OAuth\n",
    "auth = tweepy.OAuthHandler(consumer_key, consumer_secret)\n",
    "auth.set_access_token(access_key, access_secret)\n",
    "\n",
    "# API Call\n",
    "api = tweepy.API(auth, parser = tweepy.parsers.JSONParser())"
   ]
  },
  {
   "cell_type": "code",
   "execution_count": 2,
   "metadata": {
    "collapsed": false,
    "scrolled": true
   },
   "outputs": [
    {
     "name": "stdout",
     "output_type": "stream",
     "text": [
      "[0] The big story is the \"unmasking and surveillance\" of people that took place during the Obama Administration.\n",
      "[1] I will be announcing my decision on Paris Accord, Thursday at 3:00 P.M.  The White House Rose Garden.  MAKE AMERICA GREAT AGAIN!\n",
      "[2] Crooked Hillary Clinton now blames everybody but herself, refuses to say she was a terrible candidate. Hits Facebook &amp; even Dems &amp; DNC.\n",
      "[3] It was an honor to welcome the Prime Minister of Vietnam, Nguyễn Xuân Phúc to the @WhiteHouse this afternoon. https://t.co/6YbrIvJUCY\n",
      "[4] We traveled the world to strengthen long-standing alliances, and to form new partnerships. See more at:… https://t.co/FT4kyPoAl0\n",
      "[5] I will be announcing my decision on the Paris Accord over the next few days. MAKE AMERICA GREAT AGAIN!\n",
      "[6] Hopefully Republican Senators, good people all, can quickly get together and pass a new (repeal &amp; replace) HEALTHCARE bill. Add saved $'s.\n",
      "[7] Kathy Griffin should be ashamed of herself. My children, especially my 11 year old son, Barron, are having a hard time with this. Sick!\n",
      "[8] ...case against him &amp; now wants to clear his name by showing \"the false or misleading testimony by James Comey, John Brennan...\" Witch Hunt!\n",
      "[9] So now it is reported that the Democrats, who have excoriated Carter Page about Russia, don't want him to testify. He blows away their....\n"
     ]
    }
   ],
   "source": [
    "# Test API by pulling data from Donald Trumps twitter\n",
    "data = api.user_timeline(id='realDonaldTrump', count = 200)  #Example:@realDonaldTrump\n",
    "for i in range(10):\n",
    "    print([i],data[i]['text'])"
   ]
  },
  {
   "cell_type": "code",
   "execution_count": 25,
   "metadata": {
    "collapsed": false,
    "scrolled": false
   },
   "outputs": [],
   "source": [
    "search_query =  '\"TRUMP\" -filter:retweets'\n",
    "data = api.search(q = search_query, count = 100, lang = 'en', result_type = 'mixed')\n",
    "all_data = list(data.values())[0]\n"
   ]
  },
  {
   "cell_type": "code",
   "execution_count": 26,
   "metadata": {
    "collapsed": false
   },
   "outputs": [],
   "source": [
    "while(len(all_data) <= 1000):\n",
    "    #time.sleep(5)\n",
    "    last = all_data[-1]['id']\n",
    "    data = api.search(q = search_query, count = 100, lang = 'en', result_type = 'mixed', since_id = last)\n",
    "    all_data += list(data.values())[0][1:]\n"
   ]
  },
  {
   "cell_type": "code",
   "execution_count": 27,
   "metadata": {
    "collapsed": false
   },
   "outputs": [
    {
     "data": {
      "text/plain": [
       "1088"
      ]
     },
     "execution_count": 27,
     "metadata": {},
     "output_type": "execute_result"
    }
   ],
   "source": [
    "len(all_data)"
   ]
  },
  {
   "cell_type": "code",
   "execution_count": 28,
   "metadata": {
    "collapsed": false
   },
   "outputs": [],
   "source": [
    "tweet = []\n",
    "number_favourites = []\n",
    "number_retweet = []\n",
    "vs_compound = []\n",
    "vs_pos = []\n",
    "vs_neu = []\n",
    "vs_neg = []\n",
    "\n",
    "analyzer = SentimentIntensityAnalyzer()\n",
    "\n",
    "for i in range(0, len(all_data)):\n",
    "    tweet.append(all_data[i]['text'])\n",
    "    number_retweet.append(all_data[i]['retweet_count'])\n",
    "    number_favourites.append(all_data[i]['favorite_count'])\n",
    "    vs_compound.append(analyzer.polarity_scores(all_data[i]['text'])['compound'])\n",
    "    vs_pos.append(analyzer.polarity_scores(all_data[i]['text'])['pos'])\n",
    "    vs_neu.append(analyzer.polarity_scores(all_data[i]['text'])['neu'])\n",
    "    vs_neg.append(analyzer.polarity_scores(all_data[i]['text'])['neg'])"
   ]
  },
  {
   "cell_type": "code",
   "execution_count": 29,
   "metadata": {
    "collapsed": false
   },
   "outputs": [
    {
     "name": "stderr",
     "output_type": "stream",
     "text": [
      "C:\\Users\\linj49\\AppData\\Local\\Continuum\\Anaconda3\\lib\\site-packages\\ipykernel\\__main__.py:11: FutureWarning: sort(columns=....) is deprecated, use sort_values(by=.....)\n"
     ]
    },
    {
     "data": {
      "text/html": [
       "<div>\n",
       "<table border=\"1\" class=\"dataframe\">\n",
       "  <thead>\n",
       "    <tr style=\"text-align: right;\">\n",
       "      <th></th>\n",
       "      <th>Tweet</th>\n",
       "      <th>Retweets</th>\n",
       "      <th>Favourites</th>\n",
       "      <th>Compound</th>\n",
       "      <th>Positive</th>\n",
       "      <th>Neutral</th>\n",
       "      <th>Negative</th>\n",
       "    </tr>\n",
       "  </thead>\n",
       "  <tbody>\n",
       "    <tr>\n",
       "      <th>0</th>\n",
       "      <td>trump meant to write \"coverage\". that's it. it...</td>\n",
       "      <td>12017</td>\n",
       "      <td>69382</td>\n",
       "      <td>-0.6492</td>\n",
       "      <td>0.082</td>\n",
       "      <td>0.660</td>\n",
       "      <td>0.258</td>\n",
       "    </tr>\n",
       "    <tr>\n",
       "      <th>1</th>\n",
       "      <td>BREAKING: President Trump has decided to withd...</td>\n",
       "      <td>5944</td>\n",
       "      <td>3229</td>\n",
       "      <td>0.0000</td>\n",
       "      <td>0.000</td>\n",
       "      <td>1.000</td>\n",
       "      <td>0.000</td>\n",
       "    </tr>\n",
       "    <tr>\n",
       "      <th>2</th>\n",
       "      <td>Trump: My children are having a hard time with...</td>\n",
       "      <td>20223</td>\n",
       "      <td>40715</td>\n",
       "      <td>-0.1027</td>\n",
       "      <td>0.000</td>\n",
       "      <td>0.903</td>\n",
       "      <td>0.097</td>\n",
       "    </tr>\n",
       "    <tr>\n",
       "      <th>3</th>\n",
       "      <td>@AnnCoulter They must have graduated from Trum...</td>\n",
       "      <td>0</td>\n",
       "      <td>0</td>\n",
       "      <td>0.0000</td>\n",
       "      <td>0.000</td>\n",
       "      <td>1.000</td>\n",
       "      <td>0.000</td>\n",
       "    </tr>\n",
       "    <tr>\n",
       "      <th>4</th>\n",
       "      <td>U.S. Has Admitted 46,371 Refugees So Far in FY...</td>\n",
       "      <td>0</td>\n",
       "      <td>0</td>\n",
       "      <td>0.6514</td>\n",
       "      <td>0.210</td>\n",
       "      <td>0.790</td>\n",
       "      <td>0.000</td>\n",
       "    </tr>\n",
       "  </tbody>\n",
       "</table>\n",
       "</div>"
      ],
      "text/plain": [
       "                                               Tweet  Retweets  Favourites  \\\n",
       "0  trump meant to write \"coverage\". that's it. it...     12017       69382   \n",
       "1  BREAKING: President Trump has decided to withd...      5944        3229   \n",
       "2  Trump: My children are having a hard time with...     20223       40715   \n",
       "3  @AnnCoulter They must have graduated from Trum...         0           0   \n",
       "4  U.S. Has Admitted 46,371 Refugees So Far in FY...         0           0   \n",
       "\n",
       "   Compound  Positive  Neutral  Negative  \n",
       "0   -0.6492     0.082    0.660     0.258  \n",
       "1    0.0000     0.000    1.000     0.000  \n",
       "2   -0.1027     0.000    0.903     0.097  \n",
       "3    0.0000     0.000    1.000     0.000  \n",
       "4    0.6514     0.210    0.790     0.000  "
      ]
     },
     "execution_count": 29,
     "metadata": {},
     "output_type": "execute_result"
    }
   ],
   "source": [
    "twitter_df = DataFrame({'Tweet': tweet,\n",
    "                        'Retweets': number_retweet,\n",
    "                        'Favourites': number_favourites,\n",
    "                        'Compound': vs_compound,\n",
    "                        'Positive': vs_pos,\n",
    "                        'Neutral': vs_neu,\n",
    "                        'Negative': vs_neg})\n",
    "\n",
    "twitter_df = twitter_df[['Tweet','Retweets', 'Favourites', 'Compound',\n",
    "                         'Positive', 'Neutral', 'Negative']]\n",
    "twitter_df.sort(columns='Retweets',ascending = False)\n",
    "\n",
    "# Have a look at the top 5 results.\n",
    "twitter_df.head()"
   ]
  },
  {
   "cell_type": "code",
   "execution_count": null,
   "metadata": {
    "collapsed": true
   },
   "outputs": [],
   "source": []
  }
 ],
 "metadata": {
  "kernelspec": {
   "display_name": "Python 3",
   "language": "python",
   "name": "python3"
  },
  "language_info": {
   "codemirror_mode": {
    "name": "ipython",
    "version": 3
   },
   "file_extension": ".py",
   "mimetype": "text/x-python",
   "name": "python",
   "nbconvert_exporter": "python",
   "pygments_lexer": "ipython3",
   "version": "3.5.1"
  }
 },
 "nbformat": 4,
 "nbformat_minor": 0
}
