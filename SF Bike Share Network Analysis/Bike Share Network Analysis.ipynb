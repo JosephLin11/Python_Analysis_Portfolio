{
 "cells": [
  {
   "cell_type": "code",
   "execution_count": 1,
   "metadata": {
    "collapsed": false
   },
   "outputs": [],
   "source": [
    "import csv\n",
    "from datetime import datetime\n",
    "import numpy as np\n",
    "import pandas as pd\n",
    "\n",
    "# Use packages below for Map Visualizations using Basemap and Arcgis\n",
    "#from mpl_toolkits.basemap import Basemap\n",
    "#import arcgis\n",
    "#from arcgis.gis import GIS\n",
    "import warnings\n",
    "warnings.filterwarnings('ignore')\n",
    "import matplotlib as mpl\n",
    "mpl.use('TkAgg')\n",
    "import matplotlib.pyplot as plt\n",
    "import networkx as nx\n",
    "\n",
    "# Use package below for faster and more simple visualization than Basemap\n",
    "import mplleaflet\n",
    "\n",
    "trips_data = pd.read_csv('LDA Data Set.csv', parse_dates = ['Start Date','End Date'])\n",
    "test_trips_data = trips_data[0:100]\n",
    "# Load Geographic Locations of Stations\n",
    "station_data = pd.read_csv('station_data.csv')"
   ]
  },
  {
   "cell_type": "code",
   "execution_count": 2,
   "metadata": {
    "collapsed": false,
    "scrolled": true
   },
   "outputs": [
    {
     "data": {
      "text/html": [
       "<div>\n",
       "<table border=\"1\" class=\"dataframe\">\n",
       "  <thead>\n",
       "    <tr style=\"text-align: right;\">\n",
       "      <th></th>\n",
       "      <th>Trip ID</th>\n",
       "      <th>Duration</th>\n",
       "      <th>Start Date</th>\n",
       "      <th>Start Station</th>\n",
       "      <th>Start Terminal</th>\n",
       "      <th>End Date</th>\n",
       "      <th>End Station</th>\n",
       "      <th>End Terminal</th>\n",
       "      <th>Bike #</th>\n",
       "      <th>Subscriber Type</th>\n",
       "      <th>Zip Code</th>\n",
       "    </tr>\n",
       "  </thead>\n",
       "  <tbody>\n",
       "    <tr>\n",
       "      <th>0</th>\n",
       "      <td>432946</td>\n",
       "      <td>406</td>\n",
       "      <td>2014-08-31 22:31:00</td>\n",
       "      <td>Mountain View Caltrain Station</td>\n",
       "      <td>28</td>\n",
       "      <td>2014-08-31 22:38:00</td>\n",
       "      <td>Castro Street and El Camino Real</td>\n",
       "      <td>32</td>\n",
       "      <td>17</td>\n",
       "      <td>Subscriber</td>\n",
       "      <td>94040</td>\n",
       "    </tr>\n",
       "    <tr>\n",
       "      <th>1</th>\n",
       "      <td>432945</td>\n",
       "      <td>468</td>\n",
       "      <td>2014-08-31 22:07:00</td>\n",
       "      <td>Beale at Market</td>\n",
       "      <td>56</td>\n",
       "      <td>2014-08-31 22:15:00</td>\n",
       "      <td>Market at 4th</td>\n",
       "      <td>76</td>\n",
       "      <td>509</td>\n",
       "      <td>Customer</td>\n",
       "      <td>11231</td>\n",
       "    </tr>\n",
       "    <tr>\n",
       "      <th>2</th>\n",
       "      <td>432944</td>\n",
       "      <td>534</td>\n",
       "      <td>2014-08-31 22:06:00</td>\n",
       "      <td>Beale at Market</td>\n",
       "      <td>56</td>\n",
       "      <td>2014-08-31 22:15:00</td>\n",
       "      <td>Market at 4th</td>\n",
       "      <td>76</td>\n",
       "      <td>342</td>\n",
       "      <td>Customer</td>\n",
       "      <td>11231</td>\n",
       "    </tr>\n",
       "    <tr>\n",
       "      <th>3</th>\n",
       "      <td>432942</td>\n",
       "      <td>1041</td>\n",
       "      <td>2014-08-31 21:45:00</td>\n",
       "      <td>Embarcadero at Sansome</td>\n",
       "      <td>60</td>\n",
       "      <td>2014-08-31 22:02:00</td>\n",
       "      <td>Steuart at Market</td>\n",
       "      <td>74</td>\n",
       "      <td>603</td>\n",
       "      <td>Customer</td>\n",
       "      <td>94521</td>\n",
       "    </tr>\n",
       "    <tr>\n",
       "      <th>4</th>\n",
       "      <td>432941</td>\n",
       "      <td>1091</td>\n",
       "      <td>2014-08-31 21:44:00</td>\n",
       "      <td>Embarcadero at Sansome</td>\n",
       "      <td>60</td>\n",
       "      <td>2014-08-31 22:02:00</td>\n",
       "      <td>Steuart at Market</td>\n",
       "      <td>74</td>\n",
       "      <td>598</td>\n",
       "      <td>Customer</td>\n",
       "      <td>94521</td>\n",
       "    </tr>\n",
       "  </tbody>\n",
       "</table>\n",
       "</div>"
      ],
      "text/plain": [
       "   Trip ID  Duration          Start Date                   Start Station  \\\n",
       "0   432946       406 2014-08-31 22:31:00  Mountain View Caltrain Station   \n",
       "1   432945       468 2014-08-31 22:07:00                 Beale at Market   \n",
       "2   432944       534 2014-08-31 22:06:00                 Beale at Market   \n",
       "3   432942      1041 2014-08-31 21:45:00          Embarcadero at Sansome   \n",
       "4   432941      1091 2014-08-31 21:44:00          Embarcadero at Sansome   \n",
       "\n",
       "   Start Terminal            End Date                       End Station  \\\n",
       "0              28 2014-08-31 22:38:00  Castro Street and El Camino Real   \n",
       "1              56 2014-08-31 22:15:00                     Market at 4th   \n",
       "2              56 2014-08-31 22:15:00                     Market at 4th   \n",
       "3              60 2014-08-31 22:02:00                 Steuart at Market   \n",
       "4              60 2014-08-31 22:02:00                 Steuart at Market   \n",
       "\n",
       "   End Terminal  Bike # Subscriber Type Zip Code  \n",
       "0            32      17      Subscriber    94040  \n",
       "1            76     509        Customer    11231  \n",
       "2            76     342        Customer    11231  \n",
       "3            74     603        Customer    94521  \n",
       "4            74     598        Customer    94521  "
      ]
     },
     "execution_count": 2,
     "metadata": {},
     "output_type": "execute_result"
    }
   ],
   "source": [
    "test_trips_data.head()"
   ]
  },
  {
   "cell_type": "code",
   "execution_count": 3,
   "metadata": {
    "collapsed": false,
    "scrolled": true
   },
   "outputs": [
    {
     "data": {
      "text/html": [
       "<div>\n",
       "<table border=\"1\" class=\"dataframe\">\n",
       "  <thead>\n",
       "    <tr style=\"text-align: right;\">\n",
       "      <th></th>\n",
       "      <th>Start_Station</th>\n",
       "      <th>End_Station</th>\n",
       "      <th>Rides</th>\n",
       "    </tr>\n",
       "  </thead>\n",
       "  <tbody>\n",
       "    <tr>\n",
       "      <th>655</th>\n",
       "      <td>Harry Bridges Plaza (Ferry Building)</td>\n",
       "      <td>Embarcadero at Sansome</td>\n",
       "      <td>1689</td>\n",
       "    </tr>\n",
       "    <tr>\n",
       "      <th>1584</th>\n",
       "      <td>Townsend at 7th</td>\n",
       "      <td>San Francisco Caltrain (Townsend at 4th)</td>\n",
       "      <td>1527</td>\n",
       "    </tr>\n",
       "    <tr>\n",
       "      <th>1239</th>\n",
       "      <td>San Francisco Caltrain 2 (330 Townsend)</td>\n",
       "      <td>Townsend at 7th</td>\n",
       "      <td>1352</td>\n",
       "    </tr>\n",
       "    <tr>\n",
       "      <th>521</th>\n",
       "      <td>Embarcadero at Sansome</td>\n",
       "      <td>Steuart at Market</td>\n",
       "      <td>1128</td>\n",
       "    </tr>\n",
       "    <tr>\n",
       "      <th>86</th>\n",
       "      <td>2nd at Townsend</td>\n",
       "      <td>Harry Bridges Plaza (Ferry Building)</td>\n",
       "      <td>1109</td>\n",
       "    </tr>\n",
       "    <tr>\n",
       "      <th>55</th>\n",
       "      <td>2nd at South Park</td>\n",
       "      <td>Market at Sansome</td>\n",
       "      <td>1039</td>\n",
       "    </tr>\n",
       "    <tr>\n",
       "      <th>645</th>\n",
       "      <td>Harry Bridges Plaza (Ferry Building)</td>\n",
       "      <td>2nd at Townsend</td>\n",
       "      <td>1007</td>\n",
       "    </tr>\n",
       "    <tr>\n",
       "      <th>771</th>\n",
       "      <td>Market at 10th</td>\n",
       "      <td>San Francisco Caltrain (Townsend at 4th)</td>\n",
       "      <td>974</td>\n",
       "    </tr>\n",
       "    <tr>\n",
       "      <th>1514</th>\n",
       "      <td>Steuart at Market</td>\n",
       "      <td>San Francisco Caltrain (Townsend at 4th)</td>\n",
       "      <td>972</td>\n",
       "    </tr>\n",
       "  </tbody>\n",
       "</table>\n",
       "</div>"
      ],
      "text/plain": [
       "                                Start_Station  \\\n",
       "655      Harry Bridges Plaza (Ferry Building)   \n",
       "1584                          Townsend at 7th   \n",
       "1239  San Francisco Caltrain 2 (330 Townsend)   \n",
       "521                    Embarcadero at Sansome   \n",
       "86                            2nd at Townsend   \n",
       "55                          2nd at South Park   \n",
       "645      Harry Bridges Plaza (Ferry Building)   \n",
       "771                            Market at 10th   \n",
       "1514                        Steuart at Market   \n",
       "\n",
       "                                   End_Station  Rides  \n",
       "655                     Embarcadero at Sansome   1689  \n",
       "1584  San Francisco Caltrain (Townsend at 4th)   1527  \n",
       "1239                           Townsend at 7th   1352  \n",
       "521                          Steuart at Market   1128  \n",
       "86        Harry Bridges Plaza (Ferry Building)   1109  \n",
       "55                           Market at Sansome   1039  \n",
       "645                            2nd at Townsend   1007  \n",
       "771   San Francisco Caltrain (Townsend at 4th)    974  \n",
       "1514  San Francisco Caltrain (Townsend at 4th)    972  "
      ]
     },
     "execution_count": 3,
     "metadata": {},
     "output_type": "execute_result"
    }
   ],
   "source": [
    "# Perform aggregation of rides on Start Station and End Station to get unique Start -> End Trips\n",
    "\n",
    "weighted_data  = pd.DataFrame({'count' : trips_data.groupby( ['Start Station','End Station'] ).size()}).reset_index()\n",
    "weighted_data.columns = ['Start_Station', 'End_Station', 'Rides']\n",
    "Average_Num_Rides = weighted_data['Rides'].mean()\n",
    "weighted_data.sort_values(['Rides'], ascending=False)[0:9]\n"
   ]
  },
  {
   "cell_type": "code",
   "execution_count": 4,
   "metadata": {
    "collapsed": false
   },
   "outputs": [
    {
     "name": "stdout",
     "output_type": "stream",
     "text": [
      "\n",
      "Average Number of Rides: \n",
      "\n"
     ]
    },
    {
     "data": {
      "text/plain": [
       "102.44007155635063"
      ]
     },
     "execution_count": 4,
     "metadata": {},
     "output_type": "execute_result"
    }
   ],
   "source": [
    "print('\\nAverage Number of Rides: \\n') \n",
    "Average_Num_Rides"
   ]
  },
  {
   "cell_type": "code",
   "execution_count": 6,
   "metadata": {
    "collapsed": false
   },
   "outputs": [
    {
     "data": {
      "text/html": [
       "<div>\n",
       "<table border=\"1\" class=\"dataframe\">\n",
       "  <thead>\n",
       "    <tr style=\"text-align: right;\">\n",
       "      <th></th>\n",
       "      <th>Station_Name</th>\n",
       "      <th>Total_Rides</th>\n",
       "    </tr>\n",
       "  </thead>\n",
       "  <tbody>\n",
       "    <tr>\n",
       "      <th>50</th>\n",
       "      <td>San Francisco Caltrain (Townsend at 4th)</td>\n",
       "      <td>29682</td>\n",
       "    </tr>\n",
       "    <tr>\n",
       "      <th>24</th>\n",
       "      <td>Harry Bridges Plaza (Ferry Building)</td>\n",
       "      <td>16244</td>\n",
       "    </tr>\n",
       "    <tr>\n",
       "      <th>18</th>\n",
       "      <td>Embarcadero at Sansome</td>\n",
       "      <td>15151</td>\n",
       "    </tr>\n",
       "    <tr>\n",
       "      <th>51</th>\n",
       "      <td>San Francisco Caltrain 2 (330 Townsend)</td>\n",
       "      <td>14490</td>\n",
       "    </tr>\n",
       "    <tr>\n",
       "      <th>2</th>\n",
       "      <td>2nd at Townsend</td>\n",
       "      <td>14235</td>\n",
       "    </tr>\n",
       "  </tbody>\n",
       "</table>\n",
       "</div>"
      ],
      "text/plain": [
       "                                Station_Name  Total_Rides\n",
       "50  San Francisco Caltrain (Townsend at 4th)        29682\n",
       "24      Harry Bridges Plaza (Ferry Building)        16244\n",
       "18                    Embarcadero at Sansome        15151\n",
       "51   San Francisco Caltrain 2 (330 Townsend)        14490\n",
       "2                            2nd at Townsend        14235"
      ]
     },
     "execution_count": 6,
     "metadata": {},
     "output_type": "execute_result"
    }
   ],
   "source": [
    "# Joins Total # of Rides To and From a Station to get Total_Rides occuring at each Station\n",
    "start_table = pd.pivot_table(weighted_data, values ='Rides', index=['Start_Station'], aggfunc=np.sum)\n",
    "\n",
    "# Sort table Descending to get most frequent Station\n",
    "start_table = pd.DataFrame(start_table).reset_index().sort_values(['Rides'], ascending=False)\n",
    "end_table = pd.pivot_table(weighted_data, values ='Rides', index=['End_Station'], aggfunc=np.sum)\n",
    "end_table = pd.DataFrame(end_table).reset_index().sort_values(['Rides'], ascending=False)\n",
    "end_table = end_table.set_index('End_Station')['Rides'].to_dict()\n",
    "start_table['To_Rides']=start_table.Start_Station.map(end_table)\n",
    "start_table['Total_Rides'] = start_table['Rides'] + start_table['To_Rides']\n",
    "start_table['Station_Name'] = start_table['Start_Station']\n",
    "rides_table = start_table[['Station_Name', 'Total_Rides']]\n",
    "rides_table.head()"
   ]
  },
  {
   "cell_type": "code",
   "execution_count": 7,
   "metadata": {
    "collapsed": false
   },
   "outputs": [],
   "source": [
    "# Create dictionary with Key:Station_Name and Value: Total_Rides\n",
    "\n",
    "# Dictionary: total_ride_dict\n",
    "# Type: Dictionary\n",
    "# Contains: Station and # of Rides going to and from the Station\n",
    "\n",
    "total_ride_dict = {}\n",
    "\n",
    "for index, row in rides_table.iterrows():\n",
    "        total_ride_dict[row['Station_Name']] = row['Total_Rides']\n",
    "        \n",
    "#total_ride_dict"
   ]
  },
  {
   "cell_type": "code",
   "execution_count": 8,
   "metadata": {
    "collapsed": false
   },
   "outputs": [],
   "source": [
    "# Array: weighted_edges\n",
    "# Type: Array of 3-tuple\n",
    "# Contains: Start to End Stations and # of Rides for each respective route for each element\n",
    "\n",
    "weighted_edges = []\n",
    "\n",
    "for index, row in weighted_data.iterrows():\n",
    "        weighted_edges.append((row['Start_Station'],row['End_Station'], row['Rides']))\n",
    "\n",
    "#weighted_edges"
   ]
  },
  {
   "cell_type": "code",
   "execution_count": 9,
   "metadata": {
    "collapsed": false
   },
   "outputs": [],
   "source": [
    "# Create dictionary with Key:Station_Name and Value: (Latitude, Longitude)\n",
    "\n",
    "# Dictionary: station_dict\n",
    "# Type: Dictionary with Value being tuples\n",
    "# Contains: Station and tuple of Latitude, Longitude\n",
    "\n",
    "station_dict = {}\n",
    "\n",
    "for index, row in station_data.iterrows():\n",
    "        station_dict[row['name']] = (row['long'], row['lat'])\n",
    "\n",
    "# Create dictionary with Key:Station_Name and Value: Station_Name\n",
    "\n",
    "# Dictionary: station_name_dict\n",
    "# Type: Dictionary with Value being Label Names\n",
    "# Contains: Station and Station Name Labels\n",
    "\n",
    "station_name_dict = {}\n",
    "\n",
    "for index, row in rides_table.iterrows():\n",
    "        station_name_dict[row['Station_Name']] = row['Station_Name']"
   ]
  },
  {
   "cell_type": "code",
   "execution_count": 10,
   "metadata": {
    "collapsed": false
   },
   "outputs": [],
   "source": [
    "#Create Networkx Multigraph\n",
    "\n",
    "G = nx.MultiDiGraph()\n",
    "\n",
    "# Add Nodes \n",
    "G.add_nodes_from(station_dict.keys())\n",
    "# Add weighted edges - size is dependent on rides to End destination\n",
    "G.add_weighted_edges_from(weighted_edges)\n",
    "\n",
    "# Assign coordinates, total ride #, and label name to Node Atttributes\n",
    "for index, coordinates in station_dict.items():\n",
    "    G.node[index]['pos'] = coordinates\n",
    "    \n",
    "for index, number in total_ride_dict.items():\n",
    "    G.node[index]['rides'] = number\n",
    "    \n",
    "for index, name in station_name_dict.items():\n",
    "    G.node[index]['station_name'] = name"
   ]
  },
  {
   "cell_type": "code",
   "execution_count": 11,
   "metadata": {
    "collapsed": false,
    "scrolled": true
   },
   "outputs": [],
   "source": [
    "# Assign node attributes to array\n",
    "pos = nx.get_node_attributes(G, 'pos')\n",
    "station_name = nx.get_node_attributes(G,'station_name')\n",
    "total_rides = nx.get_node_attributes(G,'rides')\n",
    "\n",
    "#station_name"
   ]
  },
  {
   "cell_type": "code",
   "execution_count": 12,
   "metadata": {
    "collapsed": false
   },
   "outputs": [],
   "source": [
    "# Test draw without weights\n",
    "nx.draw(G, pos, with_labels=True, node_size = 150, node_color='#00437c', font_size=100)\n",
    "mplleaflet.show()"
   ]
  },
  {
   "cell_type": "code",
   "execution_count": 13,
   "metadata": {
    "collapsed": false
   },
   "outputs": [],
   "source": [
    "labels = nx.draw_networkx_labels(G,pos, labels=station_name, font_color='#f5f5f5', font_size=20)\n"
   ]
  },
  {
   "cell_type": "code",
   "execution_count": 14,
   "metadata": {
    "collapsed": false
   },
   "outputs": [],
   "source": [
    "# Create factors of edge weights and node sizes, factor is chosen based on viewability on Map\n",
    "\n",
    "weights = [w[2]['weight']/600.0 for w in  G.edges(data=True)]\n",
    "#weights\n",
    "\n",
    "sizes = [s[1]['rides']/20 for s in  G.nodes(data=True)]\n",
    "#sizes\n",
    "\n",
    "colors = [c[1]['rides']/100 for c in  G.nodes(data=True)]\n",
    "#colors\n",
    "\n",
    "names = [n[1]['station_name'] for n in  G.nodes(data=True)]\n",
    "#names\n",
    "\n",
    "label_names = {}    \n",
    "for node in G.nodes():\n",
    "        label_names[node] = node\n"
   ]
  },
  {
   "cell_type": "code",
   "execution_count": 15,
   "metadata": {
    "collapsed": false
   },
   "outputs": [],
   "source": [
    "#colors"
   ]
  },
  {
   "cell_type": "code",
   "execution_count": 16,
   "metadata": {
    "collapsed": false
   },
   "outputs": [],
   "source": [
    "# Draw Nodes, Labels, and Edges and show on Leaflet\n",
    "nx.relabel_nodes(G,mapping=station_name_dict, copy=False)\n",
    "nx.draw_networkx_nodes(G, pos,labels=label_names,arrows=True, cmap=plt.get_cmap('jet'), node_size = sizes, node_color=colors, vmax = 300)\n",
    "nx.draw_networkx_labels(G, pos, labels=label_names, font_color='r', font_size=16)\n",
    "nx.draw_networkx_edges(G, pos, width=weights)\n",
    "mplleaflet.show()"
   ]
  },
  {
   "cell_type": "code",
   "execution_count": null,
   "metadata": {
    "collapsed": true
   },
   "outputs": [],
   "source": [
    "#'#00437c'"
   ]
  },
  {
   "cell_type": "code",
   "execution_count": 16,
   "metadata": {
    "collapsed": false
   },
   "outputs": [],
   "source": [
    "nx.draw_networkx_labels(G, pos, labels=station_name, font_color='#f5f5f5', font_size=10)\n",
    "mplleaflet.show()\n",
    "## Originally intended to use Basemap, but switched to mplleaflet\n",
    "#plt.figure(figsize=(20,5))\n",
    "#fig, ax = plt.subplots()\n",
    "#map_extent = [-122.53, 37.68, -122.35, 37.83]\n",
    "#m = Basemap(llcrnrlon=map_extent[0], llcrnrlat=map_extent[1],\n",
    "#             urcrnrlon=map_extent[2], urcrnrlat=map_extent[3],projection='lcc',resolution='f', epsg=4269)\n",
    "#m.shadedrelief()\n",
    "#m.drawcoastlines(color='gray')\n",
    "#m.drawcountries(color='gray')\n",
    "#m.drawstates(color='gray')\n",
    "#m.arcgisimage(server='http://server.arcgisonline.com/ArcGIS', service='ESRI_StreetMap_World_2D', xpixels=1500, verbose=True)\n",
    "#mplleaflet.show(fig=fig.figure)\n"
   ]
  },
  {
   "cell_type": "code",
   "execution_count": null,
   "metadata": {
    "collapsed": false
   },
   "outputs": [
    {
     "name": "stdout",
     "output_type": "stream",
     "text": [
      "ERROR! Session/line number was not unique in database. History logging moved to new session 37\n"
     ]
    }
   ],
   "source": [
    "nx.draw_networkx_nodes(G, pos,labels=label_names,arrows=True, cmap=plt.get_cmap('jet'), node_size = sizes, node_color='#00437c')\n",
    "nx.draw_networkx_labels(G, pos, labels=label_names, font_color='r', font_size=5)\n",
    "nx.draw_networkx_edges(G, pos, width=weights)\n",
    "plt.show()\n"
   ]
  },
  {
   "cell_type": "code",
   "execution_count": null,
   "metadata": {
    "collapsed": true
   },
   "outputs": [],
   "source": []
  },
  {
   "cell_type": "code",
   "execution_count": null,
   "metadata": {
    "collapsed": true
   },
   "outputs": [],
   "source": []
  }
 ],
 "metadata": {
  "kernelspec": {
   "display_name": "Python 3",
   "language": "python",
   "name": "python3"
  },
  "language_info": {
   "codemirror_mode": {
    "name": "ipython",
    "version": 3
   },
   "file_extension": ".py",
   "mimetype": "text/x-python",
   "name": "python",
   "nbconvert_exporter": "python",
   "pygments_lexer": "ipython3",
   "version": "3.5.1"
  }
 },
 "nbformat": 4,
 "nbformat_minor": 0
}
